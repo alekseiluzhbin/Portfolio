{
 "cells": [
  {
   "cell_type": "code",
   "execution_count": 1,
   "id": "33b1cf60",
   "metadata": {},
   "outputs": [],
   "source": [
    "import pandas as pd\n",
    "import numpy as np\n",
    "from sklearn.model_selection import train_test_split\n",
    "from sklearn.compose import ColumnTransformer\n",
    "from sklearn.preprocessing import StandardScaler, LabelEncoder\n",
    "from tensorflow.keras.models import Sequential\n",
    "from tensorflow.keras.utils import to_categorical\n",
    "from tensorflow.keras.layers import Dense, InputLayer, Dropout\n",
    "from tensorflow.keras.optimizers import Adam\n",
    "from tensorflow.keras.callbacks import EarlyStopping\n",
    "from tensorflow.keras.metrics import CategoricalAccuracy, AUC\n",
    "import matplotlib.pyplot as plt"
   ]
  },
  {
   "cell_type": "code",
   "execution_count": 2,
   "id": "0559e2b2",
   "metadata": {},
   "outputs": [],
   "source": [
    "# Loading the data to a pandas DataFrame object:\n",
    "dataset = pd.read_csv(\"cover_data.csv\")\n",
    "\n",
    "# print(dataset.info())\n",
    "# print(dataset['class'].value_counts())\n",
    "\n",
    "x = dataset.iloc[:, :-1] # extract the features columns\n",
    "y = dataset.iloc[:, -1] # extract the label column \"class\""
   ]
  },
  {
   "cell_type": "code",
   "execution_count": 5,
   "id": "1fa53bf4",
   "metadata": {},
   "outputs": [],
   "source": [
    "# Data preprocessing.\n",
    "# Splitting the data into training features, test features, training labels, and test labels, respectively:\n",
    "x_train, x_test, y_train, y_test = train_test_split(x, y, test_size = 0.33, stratify = y, random_state = 42)\n",
    "\n",
    "# Initializing a ColumnTransformer object to scale the numeric features in the dataset:\n",
    "ct = ColumnTransformer([(\"only numeric\", StandardScaler(), x.columns)])\n",
    "x_train = ct.fit_transform(x_train)\n",
    "x_test = ct.transform(x_test)"
   ]
  },
  {
   "cell_type": "code",
   "execution_count": 7,
   "id": "e4b6a1cb",
   "metadata": {},
   "outputs": [],
   "source": [
    "# Prepare labels for classification.\n",
    "# The following code initializes an instance of LabelEncoder\n",
    "# to encode the labels into integers:\n",
    "le = LabelEncoder()\n",
    "y_train = le.fit_transform(y_train.astype('str'))\n",
    "y_test = le.transform(y_test.astype('str'))\n",
    "# The following code transforms the encoded labels into a binary vector:\n",
    "y_train = to_categorical(y_train)\n",
    "y_test = to_categorical(y_test)"
   ]
  },
  {
   "cell_type": "code",
   "execution_count": 8,
   "id": "649be484",
   "metadata": {},
   "outputs": [],
   "source": [
    "# Designing the model.\n",
    "model = Sequential()\n",
    "model.add(InputLayer(input_shape = (x_train.shape[1],)))\n",
    "model.add(Dense(64, activation = 'relu')) # a hidden layer with 64 neurons\n",
    "model.add(Dense(32, activation = 'relu'))\n",
    "model.add(Dense(16, activation = 'relu'))\n",
    "model.add(Dense(8, activation = 'relu'))\n",
    "model.add(Dense(7, activation = 'softmax')) # an output layer with the number of neurons corresponding to the number of classes\n",
    "\n",
    "opt = Adam(learning_rate = 0.01)\n",
    "model.compile(\n",
    "    loss = 'categorical_crossentropy',\n",
    "    optimizer = opt,\n",
    "    metrics = [CategoricalAccuracy(), AUC()]\n",
    ")"
   ]
  },
  {
   "cell_type": "code",
   "execution_count": 9,
   "id": "905bd397",
   "metadata": {},
   "outputs": [
    {
     "name": "stdout",
     "output_type": "stream",
     "text": [
      "Epoch 1/10\n",
      "2433/2433 [==============================] - 11s 4ms/step - loss: 0.5811 - categorical_accuracy: 0.7512 - auc: 0.9683 - val_loss: 0.5297 - val_categorical_accuracy: 0.7706 - val_auc: 0.9734\n",
      "Epoch 2/10\n",
      "2433/2433 [==============================] - 9s 4ms/step - loss: 0.4982 - categorical_accuracy: 0.7866 - auc: 0.9764 - val_loss: 0.4924 - val_categorical_accuracy: 0.7925 - val_auc: 0.9769\n",
      "Epoch 3/10\n",
      "2433/2433 [==============================] - 9s 4ms/step - loss: 0.4646 - categorical_accuracy: 0.8036 - auc: 0.9794 - val_loss: 0.4521 - val_categorical_accuracy: 0.8089 - val_auc: 0.9805\n",
      "Epoch 4/10\n",
      "2433/2433 [==============================] - 9s 4ms/step - loss: 0.4479 - categorical_accuracy: 0.8123 - auc: 0.9808 - val_loss: 0.4427 - val_categorical_accuracy: 0.8168 - val_auc: 0.9814\n",
      "Epoch 5/10\n",
      "2433/2433 [==============================] - 9s 4ms/step - loss: 0.4376 - categorical_accuracy: 0.8200 - auc: 0.9818 - val_loss: 0.4296 - val_categorical_accuracy: 0.8251 - val_auc: 0.9823\n",
      "Epoch 6/10\n",
      "2433/2433 [==============================] - 9s 4ms/step - loss: 0.4279 - categorical_accuracy: 0.8253 - auc: 0.9825 - val_loss: 0.4343 - val_categorical_accuracy: 0.8248 - val_auc: 0.9818\n",
      "Epoch 7/10\n",
      "2433/2433 [==============================] - 9s 4ms/step - loss: 0.4255 - categorical_accuracy: 0.8268 - auc: 0.9830 - val_loss: 0.4211 - val_categorical_accuracy: 0.8257 - val_auc: 0.9830\n",
      "Epoch 8/10\n",
      "2433/2433 [==============================] - 9s 4ms/step - loss: 0.4139 - categorical_accuracy: 0.8304 - auc: 0.9836 - val_loss: 0.4154 - val_categorical_accuracy: 0.8282 - val_auc: 0.9836\n",
      "Epoch 9/10\n",
      "2433/2433 [==============================] - 10s 4ms/step - loss: 0.4101 - categorical_accuracy: 0.8315 - auc: 0.9839 - val_loss: 0.4126 - val_categorical_accuracy: 0.8318 - val_auc: 0.9836\n",
      "Epoch 10/10\n",
      "2433/2433 [==============================] - 9s 4ms/step - loss: 0.4037 - categorical_accuracy: 0.8346 - auc: 0.9843 - val_loss: 0.4201 - val_categorical_accuracy: 0.8318 - val_auc: 0.9832\n"
     ]
    }
   ],
   "source": [
    "# Train and evaluate the model.\n",
    "es = EarlyStopping(monitor = 'val_loss', mode = 'min', verbose = 1, patience = 5)\n",
    "history = model.fit(\n",
    "    x_train,\n",
    "    y_train,\n",
    "    validation_split = 0.2,\n",
    "    epochs = 10,\n",
    "    batch_size = 128,\n",
    "    verbose = 1,\n",
    "    callbacks = [es]\n",
    ")"
   ]
  },
  {
   "cell_type": "code",
   "execution_count": 10,
   "id": "bc04400d",
   "metadata": {},
   "outputs": [
    {
     "data": {
      "image/png": "[encoded data removed]",
      "text/plain": [
       "<Figure size 432x288 with 2 Axes>"
      ]
     },
     "metadata": {
      "needs_background": "light"
     },
     "output_type": "display_data"
    }
   ],
   "source": [
    "# plotting categorical and validation accuracy over epochs:\n",
    "fig = plt.figure()\n",
    "ax1 = fig.add_subplot(2, 1, 1)\n",
    "ax1.plot(history.history['categorical_accuracy'], label = 'train')\n",
    "ax1.plot(history.history['val_categorical_accuracy'], label = 'validation')\n",
    "ax1.set_ylabel('accuracy')\n",
    "ax1.legend(loc = 'upper left')\n",
    "\n",
    "# plotting auc and validation auc over epochs:\n",
    "ax2 = fig.add_subplot(2, 1, 2)\n",
    "ax2.plot(history.history['auc'], label = 'train')\n",
    "ax2.plot(history.history['val_auc'], label = 'validation')\n",
    "ax2.set_xlabel('epoch')\n",
    "ax2.set_ylabel('auc')\n",
    "ax2.legend(loc = 'upper left')\n",
    "\n",
    "plt.show()"
   ]
  },
  {
   "cell_type": "code",
   "execution_count": 11,
   "id": "f2d7cb98",
   "metadata": {},
   "outputs": [
    {
     "name": "stdout",
     "output_type": "stream",
     "text": [
      "accuracy: 0.8310680389404297, auc: 0.9831830263137817\n"
     ]
    }
   ],
   "source": [
    "loss, categorical_accuracy, auc = model.evaluate(x_test, y_test, verbose = 0)\n",
    "print(f'accuracy: {categorical_accuracy}, auc: {auc}')"
   ]
  }
 ],
 "metadata": {
  "kernelspec": {
   "display_name": "Python 3",
   "language": "python",
   "name": "python3"
  },
  "language_info": {
   "codemirror_mode": {
    "name": "ipython",
    "version": 3
   },
   "file_extension": ".py",
   "mimetype": "text/x-python",
   "name": "python",
   "nbconvert_exporter": "python",
   "pygments_lexer": "ipython3",
   "version": "3.9.5"
  }
 },
 "nbformat": 4,
 "nbformat_minor": 5
}
