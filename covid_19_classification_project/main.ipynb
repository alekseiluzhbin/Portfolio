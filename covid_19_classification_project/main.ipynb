{
 "cells": [
  {
   "cell_type": "code",
   "execution_count": 1,
   "id": "b0e55317",
   "metadata": {},
   "outputs": [],
   "source": [
    "from warnings import filterwarnings\n",
    "filterwarnings('ignore')\n",
    "\n",
    "import tensorflow as tf\n",
    "from tensorflow.keras.preprocessing.image import ImageDataGenerator\n",
    "from tensorflow.keras.callbacks import EarlyStopping\n",
    "import matplotlib.pyplot as plt\n",
    "from sklearn.metrics import classification_report\n",
    "import numpy as np\n",
    "from model import design_model"
   ]
  },
  {
   "cell_type": "code",
   "execution_count": 2,
   "id": "993548e3",
   "metadata": {},
   "outputs": [],
   "source": [
    "BATCH_SIZE = 32 # 32 images in a batch\n",
    "RESCALE = 1 / 255 # for pixel normalization"
   ]
  },
  {
   "cell_type": "markdown",
   "id": "40d8ba7e",
   "metadata": {},
   "source": [
    "Preprocessing image data.  \n",
    "We use `ImageDataGenerators` to load images from a file path, and to preprocess them.  \n",
    "To split the data into a training set and a validation set,\n",
    "we create two different iterable objects: a `training_iterator` and a `validation_iterator`."
   ]
  },
  {
   "cell_type": "code",
   "execution_count": 3,
   "id": "f2c51ef4",
   "metadata": {},
   "outputs": [
    {
     "name": "stdout",
     "output_type": "stream",
     "text": [
      "Found 251 images belonging to 3 classes.\n"
     ]
    }
   ],
   "source": [
    "training_data_generator = ImageDataGenerator(\n",
    "    rescale = RESCALE\n",
    ")\n",
    "\n",
    "training_iterator = training_data_generator.flow_from_directory(\n",
    "    \"dataset/train\",\n",
    "    class_mode = \"categorical\",\n",
    "    color_mode = \"grayscale\",\n",
    "    batch_size = BATCH_SIZE\n",
    ")"
   ]
  },
  {
   "cell_type": "code",
   "execution_count": 4,
   "id": "190c3060",
   "metadata": {},
   "outputs": [
    {
     "name": "stdout",
     "output_type": "stream",
     "text": [
      "Found 66 images belonging to 3 classes.\n"
     ]
    }
   ],
   "source": [
    "validation_data_generator = ImageDataGenerator(\n",
    "    rescale = RESCALE\n",
    ")\n",
    "\n",
    "validation_iterator = validation_data_generator.flow_from_directory(\n",
    "    \"dataset/test\",\n",
    "    class_mode = \"categorical\",\n",
    "    color_mode = \"grayscale\",\n",
    "    batch_size = BATCH_SIZE\n",
    ")"
   ]
  },
  {
   "cell_type": "code",
   "execution_count": 5,
   "id": "fa4d2547",
   "metadata": {},
   "outputs": [
    {
     "name": "stdout",
     "output_type": "stream",
     "text": [
      "Epoch 1/15\n",
      "7/7 [==============================] - 3s 280ms/step - loss: 1.0413 - categorical_accuracy: 0.4343 - auc: 0.6508 - val_loss: 1.0501 - val_categorical_accuracy: 0.3939 - val_auc: 0.6908\n",
      "Epoch 2/15\n",
      "7/7 [==============================] - 2s 208ms/step - loss: 0.9274 - categorical_accuracy: 0.5299 - auc: 0.7704 - val_loss: 0.9277 - val_categorical_accuracy: 0.6364 - val_auc: 0.8541\n",
      "Epoch 3/15\n",
      "7/7 [==============================] - 2s 213ms/step - loss: 0.7632 - categorical_accuracy: 0.7809 - auc: 0.8998 - val_loss: 0.7519 - val_categorical_accuracy: 0.6667 - val_auc: 0.9024\n",
      "Epoch 4/15\n",
      "7/7 [==============================] - 2s 211ms/step - loss: 0.6129 - categorical_accuracy: 0.7729 - auc: 0.9120 - val_loss: 0.6175 - val_categorical_accuracy: 0.7273 - val_auc: 0.9225\n",
      "Epoch 5/15\n",
      "7/7 [==============================] - 2s 212ms/step - loss: 0.4806 - categorical_accuracy: 0.8207 - auc: 0.9409 - val_loss: 0.5752 - val_categorical_accuracy: 0.6818 - val_auc: 0.9051\n",
      "Epoch 6/15\n",
      "7/7 [==============================] - 2s 219ms/step - loss: 0.3991 - categorical_accuracy: 0.8526 - auc: 0.9564 - val_loss: 0.5038 - val_categorical_accuracy: 0.7576 - val_auc: 0.9330\n",
      "Epoch 7/15\n",
      "7/7 [==============================] - 2s 209ms/step - loss: 0.3408 - categorical_accuracy: 0.8765 - auc: 0.9675 - val_loss: 0.5172 - val_categorical_accuracy: 0.7273 - val_auc: 0.9195\n",
      "Epoch 8/15\n",
      "7/7 [==============================] - 2s 211ms/step - loss: 0.3374 - categorical_accuracy: 0.8486 - auc: 0.9679 - val_loss: 0.4671 - val_categorical_accuracy: 0.8182 - val_auc: 0.9411\n",
      "Epoch 9/15\n",
      "7/7 [==============================] - 2s 207ms/step - loss: 0.2917 - categorical_accuracy: 0.8884 - auc: 0.9767 - val_loss: 0.4634 - val_categorical_accuracy: 0.8333 - val_auc: 0.9392\n",
      "Epoch 10/15\n",
      "7/7 [==============================] - 2s 210ms/step - loss: 0.3126 - categorical_accuracy: 0.8685 - auc: 0.9728 - val_loss: 0.4665 - val_categorical_accuracy: 0.8333 - val_auc: 0.9409\n",
      "Epoch 11/15\n",
      "7/7 [==============================] - 2s 214ms/step - loss: 0.2814 - categorical_accuracy: 0.9004 - auc: 0.9761 - val_loss: 0.4338 - val_categorical_accuracy: 0.8333 - val_auc: 0.9487\n",
      "Epoch 11: early stopping\n"
     ]
    }
   ],
   "source": [
    "# use model function:\n",
    "model = design_model()\n",
    "\n",
    "# early stopping implementation:\n",
    "es = EarlyStopping(monitor = 'val_auc', mode = 'min', verbose = 1, patience = 10)\n",
    "\n",
    "# fit the model with 10 ephochs and early stopping:\n",
    "history = model.fit(\n",
    "    training_iterator,\n",
    "    steps_per_epoch = training_iterator.samples / BATCH_SIZE,\n",
    "    epochs = 15,\n",
    "    validation_data = validation_iterator,\n",
    "    validation_steps = validation_iterator.samples / BATCH_SIZE,\n",
    "    callbacks = [es]\n",
    ")"
   ]
  },
  {
   "cell_type": "code",
   "execution_count": 6,
   "id": "be5739c1",
   "metadata": {},
   "outputs": [
    {
     "data": {
      "image/png": "[encoded data removed]",
      "text/plain": [
       "<Figure size 432x288 with 2 Axes>"
      ]
     },
     "metadata": {
      "needs_background": "light"
     },
     "output_type": "display_data"
    }
   ],
   "source": [
    "# plotting categorical and validation accuracy over epochs\n",
    "fig = plt.figure()\n",
    "ax1 = fig.add_subplot(2, 1, 1)\n",
    "ax1.plot(history.history['categorical_accuracy'])\n",
    "ax1.plot(history.history['val_categorical_accuracy'])\n",
    "ax1.set_ylabel('accuracy')\n",
    "ax1.legend(['train', 'validation'], loc = 'upper left')\n",
    "\n",
    "# plotting auc and validation auc over epochs\n",
    "ax2 = fig.add_subplot(2, 1, 2)\n",
    "ax2.plot(history.history['auc'])\n",
    "ax2.plot(history.history['val_auc'])\n",
    "ax2.set_xlabel('epoch')\n",
    "ax2.set_ylabel('auc')\n",
    "ax2.legend(['train', 'validation'], loc = 'upper left')\n",
    "\n",
    "plt.show()"
   ]
  },
  {
   "cell_type": "code",
   "execution_count": 7,
   "id": "1b324ddb",
   "metadata": {},
   "outputs": [
    {
     "name": "stdout",
     "output_type": "stream",
     "text": [
      "3/3 [==============================] - 0s 71ms/step\n",
      "              precision    recall  f1-score   support\n",
      "\n",
      "       Covid       0.47      0.54      0.50        26\n",
      "      Normal       0.32      0.30      0.31        20\n",
      "   Pneumonia       0.35      0.30      0.32        20\n",
      "\n",
      "    accuracy                           0.39        66\n",
      "   macro avg       0.38      0.38      0.38        66\n",
      "weighted avg       0.39      0.39      0.39        66\n",
      "\n"
     ]
    }
   ],
   "source": [
    "test_steps_per_epoch = np.math.ceil(validation_iterator.samples / validation_iterator.batch_size)\n",
    "predictions = model.predict(validation_iterator, steps = test_steps_per_epoch)\n",
    "test_steps_per_epoch = np.math.ceil(validation_iterator.samples / validation_iterator.batch_size)\n",
    "predicted_classes = np.argmax(predictions, axis = 1)\n",
    "true_classes = validation_iterator.classes\n",
    "class_labels = list(validation_iterator.class_indices.keys())\n",
    "report = classification_report(true_classes, predicted_classes, target_names = class_labels)\n",
    "print(report)"
   ]
  },
  {
   "cell_type": "code",
   "execution_count": null,
   "id": "22820b95",
   "metadata": {},
   "outputs": [],
   "source": []
  }
 ],
 "metadata": {
  "kernelspec": {
   "display_name": "Python 3",
   "language": "python",
   "name": "python3"
  },
  "language_info": {
   "codemirror_mode": {
    "name": "ipython",
    "version": 3
   },
   "file_extension": ".py",
   "mimetype": "text/x-python",
   "name": "python",
   "nbconvert_exporter": "python",
   "pygments_lexer": "ipython3",
   "version": "3.9.5"
  }
 },
 "nbformat": 4,
 "nbformat_minor": 5
}
